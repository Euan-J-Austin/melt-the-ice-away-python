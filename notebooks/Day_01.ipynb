{
 "cells": [
  {
   "attachments": {},
   "cell_type": "markdown",
   "metadata": {},
   "source": [
    "# Question 1\n",
    "\n",
    "### **Question:**\n",
    "\n",
    "> **_Write a program which will find all such numbers which are divisible by 7 but are not a multiple of 5,\n",
    "> between 2000 and 3200 (both included).The numbers obtained should be printed in a comma-separated sequence on a single line._**\n",
    "\n",
    "---\n",
    "\n",
    "### Hints:\n",
    "\n",
    "> **_Consider use range(#begin, #end) method._**\n",
    "\n",
    "---"
   ]
  },
  {
   "attachments": {},
   "cell_type": "markdown",
   "metadata": {},
   "source": [
    "# NB I used PowerShell's Measure-Command cmdlet to measure the execution time of my programs. I found that there was two problems with this approach. The first being that the cmdlet measures the time taken to import modules. The second problem was that the time was affected by other events happening in my system which affected CPU useage and memory. In the future I will use the timeit module which avoids the first problem at least. I could have taken the sample means of eaach programs execution time for comparision but I felt that for our purposes that was zealous and cumbersome. "
   ]
  },
  {
   "attachments": {},
   "cell_type": "markdown",
   "metadata": {},
   "source": [
    "## EUAN'S SOLUTION"
   ]
  },
  {
   "cell_type": "code",
   "execution_count": null,
   "metadata": {},
   "outputs": [],
   "source": [
    "for x in range(2000, 3201):\n",
    "    if x%7 == 0 and x%5 != 0:\n",
    "      print(x, end=\", \")\n",
    "\n",
    "# Using PowerShell's Measure-Command cmdlet to time execution, my for loop took 272.4844ms to execute and the generator solution took 250.2375ms.\n",
    "# This indicates that the generator solution is superior. I am not entirely sure why the generator solution is faster. Both the range(), though\n",
    "# not strictly a generator, and the generator create numbers 'on the fly' so do not waste memory. When deciding between the two in the future,\n",
    "# I will assess their in-situ execution time."
   ]
  },
  {
   "attachments": {},
   "cell_type": "markdown",
   "metadata": {},
   "source": [
    "**Solutions:**\n",
    "\n",
    "- **Using for loops**"
   ]
  },
  {
   "cell_type": "code",
   "execution_count": null,
   "metadata": {},
   "outputs": [],
   "source": [
    "for i in range(2000, 3201):\n",
    "    if i % 7 == 0 and i % 5 != 0:\n",
    "        print(i, end=\",\")\n",
    "print(\"\\b\")"
   ]
  },
  {
   "cell_type": "markdown",
   "metadata": {},
   "source": [
    "---\n",
    "\n",
    "- **Using generators and list comprehension**"
   ]
  },
  {
   "cell_type": "code",
   "execution_count": null,
   "metadata": {},
   "outputs": [],
   "source": [
    "print(*(i for i in range(2000, 3201) if i % 7 == 0 and i % 5 != 0), sep=\",\")"
   ]
  },
  {
   "cell_type": "markdown",
   "metadata": {},
   "source": [
    "# Question 2\n",
    "\n",
    "### **Question:**\n",
    "\n",
    "> **_Write a program which can compute the factorial of a given numbers.The results should be printed in a comma-separated sequence on a single line.Suppose the following input is supplied to the program: 8\n",
    "> Then, the output should be:40320_**\n",
    "\n",
    "---\n",
    "\n",
    "### Hints:\n",
    "\n",
    "> **_In case of input data being supplied to the question, it should be assumed to be a console input._**\n",
    "\n",
    "---\n",
    "\n",
    "\n",
    "\n",
    "**Solutions:**\n"
   ]
  },
  {
   "attachments": {},
   "cell_type": "markdown",
   "metadata": {},
   "source": [
    "## EUAN'S SOLUTION"
   ]
  },
  {
   "cell_type": "code",
   "execution_count": null,
   "metadata": {},
   "outputs": [],
   "source": [
    "import math\n",
    "\n",
    "def factorial_calculator(x):\n",
    "    return print(math.factorial(x))\n",
    "\n",
    "factorial_calculator(int(input('Enter your number: ')))\n",
    "\n",
    "# Using the Measure-Command cmdlet to time execution (the value was written into the code, so input time was equal for all), my solution took 294.2985ms.\n",
    "# This was the slowest compared to the While Loop (274.2475ms), For Loop (258.9074ms), lambda function (290.8335ms). In favour of my solution, we can argue\n",
    "# that it is easily understable and looks clean. I believe my solution was slower as the math module was imported so the factorical method could be used.\n",
    "# In this situation where a simple problem was to be solved my solution was not the best when measured by execution time but in a larger program, where\n",
    "# the math modules' methods are used multiple times, it would have a place."
   ]
  },
  {
   "cell_type": "markdown",
   "metadata": {},
   "source": [
    "- **Using While Loop**"
   ]
  },
  {
   "cell_type": "code",
   "execution_count": null,
   "metadata": {},
   "outputs": [],
   "source": [
    "n = int(input())  # input() function takes input as string type\n",
    "# int() converts it to integer type\n",
    "fact = 1\n",
    "i = 1\n",
    "while i <= n:\n",
    "    fact = fact * i\n",
    "    i = i + 1\n",
    "print(fact)"
   ]
  },
  {
   "cell_type": "markdown",
   "metadata": {},
   "source": [
    "- **Using For Loop**"
   ]
  },
  {
   "cell_type": "code",
   "execution_count": null,
   "metadata": {},
   "outputs": [],
   "source": [
    "n = int(input())  # input() function takes input as string type\n",
    "# int() converts it to integer type\n",
    "fact = 1\n",
    "for i in range(1, n + 1):\n",
    "    fact = fact * i\n",
    "print(fact)"
   ]
  },
  {
   "cell_type": "markdown",
   "metadata": {},
   "source": [
    "- **Using Lambda Function**"
   ]
  },
  {
   "cell_type": "code",
   "execution_count": null,
   "metadata": {},
   "outputs": [],
   "source": [
    "# Solution by:  harshraj22\n",
    "n = int(input())\n",
    "\n",
    "\n",
    "def shortFact(x):\n",
    "    return 1 if x <= 1 else x * shortFact(x - 1)\n",
    "\n",
    "\n",
    "print(shortFact(n))"
   ]
  },
  {
   "cell_type": "markdown",
   "metadata": {},
   "source": [
    "# Question 3\n",
    "\n",
    "### **Question:**\n",
    "\n",
    "> **_With a given integral number n, write a program to generate a dictionary that contains (i, i x i) such that is an integral number between 1 and n (both included). and then the program should print the dictionary.Suppose the following input is supplied to the program: 8_**\n",
    "\n",
    "> **_Then, the output should be:_**\n",
    "\n",
    "\n",
    "{1: 1, 2: 4, 3: 9, 4: 16, 5: 25, 6: 36, 7: 49, 8: 64}\n",
    "\n",
    "\n",
    "---\n",
    "\n",
    "### Hints:\n",
    "\n",
    "> **_In case of input data being supplied to the question, it should be assumed to be a console input.Consider use dict()_**\n",
    "\n"
   ]
  },
  {
   "attachments": {},
   "cell_type": "markdown",
   "metadata": {},
   "source": [
    "## EUAN'S SOLUTIONS"
   ]
  },
  {
   "cell_type": "code",
   "execution_count": null,
   "metadata": {},
   "outputs": [],
   "source": [
    "dict = {}\n",
    "\n",
    "for n in range(1, int(input(\"Enter your number: \")) + 1):\n",
    "  dict[n] = n*n\n",
    "\n",
    "print(dict)\n",
    "\n",
    "# Using the Measure-Command cmdlet to time execution (the value was written into the code, so input time was equal for all), my solution took. 666.8634ms.\n",
    "# This was slower than the suggested For Loop method (421.2445ms), and the dictionary comprehension approach (314.0556ms) which halved the computation time\n",
    "# of my method. "
   ]
  },
  {
   "cell_type": "code",
   "execution_count": null,
   "metadata": {},
   "outputs": [],
   "source": [
    "print({i: i * i for i in range(1, int(input(\"Enter your number: \")))})\n",
    "\n",
    "#This is my improved version of the dictionary comprehension solution which moves all code into a single line. "
   ]
  },
  {
   "cell_type": "markdown",
   "metadata": {},
   "source": [
    "**Solutions:**"
   ]
  },
  {
   "cell_type": "markdown",
   "metadata": {},
   "source": [
    "- **Using For loop**"
   ]
  },
  {
   "cell_type": "code",
   "execution_count": null,
   "metadata": {},
   "outputs": [],
   "source": [
    "n = int(input())\n",
    "ans = {}\n",
    "for i in range(1, n + 1):\n",
    "    ans[i] = i * i\n",
    "print(ans)"
   ]
  },
  {
   "cell_type": "markdown",
   "metadata": {},
   "source": [
    "- **Using dictionary comprehension**"
   ]
  },
  {
   "cell_type": "code",
   "execution_count": null,
   "metadata": {},
   "outputs": [],
   "source": [
    "n = int(input())\n",
    "ans = {i: i * i for i in range(1, n + 1)}\n",
    "print(ans)"
   ]
  },
  {
   "cell_type": "code",
   "execution_count": null,
   "metadata": {},
   "outputs": [],
   "source": []
  }
 ],
 "metadata": {
  "kernelspec": {
   "display_name": "Python 3",
   "language": "python",
   "name": "python3"
  },
  "language_info": {
   "codemirror_mode": {
    "name": "ipython",
    "version": 3
   },
   "file_extension": ".py",
   "mimetype": "text/x-python",
   "name": "python",
   "nbconvert_exporter": "python",
   "pygments_lexer": "ipython3",
   "version": "3.7.6"
  }
 },
 "nbformat": 4,
 "nbformat_minor": 4
}
