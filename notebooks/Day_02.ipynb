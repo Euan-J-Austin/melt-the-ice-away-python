{
 "cells": [
  {
   "cell_type": "markdown",
   "metadata": {},
   "source": [
    "# Question 4\n",
    "\n",
    "### **Question:**\n",
    "\n",
    "> **_Write a program which accepts a sequence of comma-separated numbers from console and generate a list and a tuple which contains every number.Suppose the following input is supplied to the program:_**\n",
    "\n",
    "\n",
    "34,67,55,33,12,98\n",
    "\n",
    "\n",
    "> **_Then, the output should be:_**\n",
    "\n",
    "\n",
    "['34', '67', '55', '33', '12', '98']\n",
    "('34', '67', '55', '33', '12', '98')\n",
    "\n",
    "\n",
    "### Hints:\n",
    "\n",
    "> **_In case of input data being supplied to the question, it should be assumed to be a console input.tuple() method can convert list to tuple_**\n",
    "\n",
    "---\n",
    "\n",
    "\n",
    "\n",
    "**Solutions:**"
   ]
  },
  {
   "attachments": {},
   "cell_type": "markdown",
   "metadata": {},
   "source": [
    "## EUAN'S SOLUTION"
   ]
  },
  {
   "cell_type": "code",
   "execution_count": null,
   "metadata": {},
   "outputs": [],
   "source": [
    "csv = input('Enter comma-separated values: ').split(',')\n",
    "print([int(x) for x in csv], tuple(map(int, csv)))\n",
    "\n",
    "#I did consider the use of the eval() function to create the tuple but eval() is considered bad practice as it allow untrusted users to input a dangerous string e.g. \n",
    "# wipe all files in present directory "
   ]
  },
  {
   "cell_type": "code",
   "execution_count": 1,
   "metadata": {},
   "outputs": [
    {
     "name": "stdout",
     "output_type": "stream",
     "text": [
      " 34, 67, 55\n"
     ]
    },
    {
     "name": "stdout",
     "output_type": "stream",
     "text": [
      "['34', ' 67', ' 55']\n",
      "('34', ' 67', ' 55')\n"
     ]
    }
   ],
   "source": [
    "lst = input().split(\",\")\n",
    "# the input is being taken as string and as it is string it has a built in\n",
    "# method name split. ',' inside split function does split where it finds any ','\n",
    "# and save the input as list in lst variable\n",
    "\n",
    "tpl = tuple(lst)  # tuple method converts list to tuple\n",
    "\n",
    "print(lst)\n",
    "print(tpl)"
   ]
  },
  {
   "cell_type": "markdown",
   "metadata": {},
   "source": [
    "---\n",
    "\n",
    "# Question 5\n",
    "\n",
    "### **Question:**\n",
    "\n",
    "> **_Define a class which has at least two methods:_**\n",
    ">\n",
    "> - **_getString: to get a string from console input_**\n",
    "> - **_printString: to print the string in upper case._**\n",
    "\n",
    "> **_Also please include simple test function to test the class methods._**\n",
    "\n",
    "### Hints:\n",
    "\n",
    "> **_Use **init** method to construct some parameters_**\n",
    "\n",
    "---\n",
    "\n",
    "\n",
    "\n",
    "**Solutions:**"
   ]
  },
  {
   "attachments": {},
   "cell_type": "markdown",
   "metadata": {},
   "source": [
    "## EUAN'S SOLUTION"
   ]
  },
  {
   "cell_type": "code",
   "execution_count": null,
   "metadata": {},
   "outputs": [],
   "source": [
    "class StringTechniques:\n",
    "  def __init__(self):\n",
    "    pass\n",
    "  def getString(self):\n",
    "    self.s = input('Enter string: ')\n",
    "  def printString(self):\n",
    "    return print(f'{self.s.upper()}')\n",
    "\n",
    "str = StringTechniques()\n",
    "str.getString()\n",
    "str.printString()\n",
    "    "
   ]
  },
  {
   "cell_type": "code",
   "execution_count": 2,
   "metadata": {},
   "outputs": [
    {
     "name": "stdout",
     "output_type": "stream",
     "text": [
      " abc\n"
     ]
    },
    {
     "name": "stdout",
     "output_type": "stream",
     "text": [
      "ABC\n"
     ]
    }
   ],
   "source": [
    "class IOstring:\n",
    "    def __init__(self):\n",
    "        pass\n",
    "\n",
    "    def get_string(self):\n",
    "        self.s = input()\n",
    "\n",
    "    def print_string(self):\n",
    "        print(self.s.upper())\n",
    "\n",
    "\n",
    "xx = IOstring()\n",
    "xx.get_string()\n",
    "xx.print_string()"
   ]
  },
  {
   "cell_type": "markdown",
   "metadata": {},
   "source": [
    "---\n",
    "\n",
    "# Question 6\n",
    "\n",
    "### **Question:**\n",
    "\n",
    "> **_Write a program that calculates and prints the value according to the given formula:_**\n",
    "\n",
    "> **_Q = Square root of [(2 _ C _ D)/H]_**\n",
    "\n",
    "> **_Following are the fixed values of C and H:_**\n",
    "\n",
    "> **_C is 50. H is 30._**\n",
    "\n",
    "> **_D is the variable whose values should be input to your program in a comma-separated sequence.For example\n",
    "> Let us assume the following comma separated input sequence is given to the program:_**\n",
    "\n",
    "\n",
    "100,150,180\n",
    "\n",
    "\n",
    "> **_The output of the program should be:_**\n",
    "\n",
    "\n",
    "18,22,24\n",
    "\n",
    "\n",
    "---\n",
    "\n",
    "### Hints:\n",
    "\n",
    "> **_If the output received is in decimal form, it should be rounded off to its nearest value (for example, if the output received is 26.0, it should be printed as 26).In case of input data being supplied to the question, it should be assumed to be a console input._**\n",
    "\n",
    "---\n",
    "\n",
    "\n",
    "\n",
    "**Solutions:**"
   ]
  },
  {
   "attachments": {},
   "cell_type": "markdown",
   "metadata": {},
   "source": [
    "## EUAN'S SOLUTION"
   ]
  },
  {
   "cell_type": "code",
   "execution_count": null,
   "metadata": {},
   "outputs": [],
   "source": [
    "import math\n",
    "\n",
    "c, h, d = 50, 30, [int(x) for x in input(\"Enter comma-seperated: \").split(',')]\n",
    "\n",
    "def calculator(c,d,h):\n",
    "  iterator = iter(d)\n",
    "  output = []\n",
    "  i=0\n",
    "  while i < len(d):\n",
    "    d1 = next(iterator)\n",
    "    output.append(round(math.sqrt((2*c*d1/h))))\n",
    "    i=i+1\n",
    "  return print(', '.join(str(x) for x in output))\n",
    "\n",
    "calculator(c,d,h)\n",
    "\n",
    "#The faults with my solution, is that I imported the entire module and I think there's a method more succinct than the while loop ... lo' and behold..."
   ]
  },
  {
   "cell_type": "code",
   "execution_count": null,
   "metadata": {},
   "outputs": [],
   "source": [
    "c, h, d = 50, 30, [int(x) for x in input(\"Enter comma-seperated: \").split(',')]\n",
    "\n",
    "def calculator(c,d,h):\n",
    "  iterator = iter(d)\n",
    "  output = []\n",
    "  try:\n",
    "    while True:\n",
    "        d1 = next(iterator)\n",
    "        output.append(round(math.sqrt((2*c*d1/h))))\n",
    "  except StopIteration:\n",
    "    return print(', '.join(str(x) for x in output))\n",
    "\n",
    "\n",
    "calculator(c,d,h)\n",
    "\n",
    "# This improves on my above solution ... the  use of try except is not traditional as errors are not being test for but avoids the unweildly looking while\n",
    "# loop with the i counter . . . I would also add that my solution makes good use of function and the functional programming paradigm, the function and data \n",
    "# is separated and declares what the program does wihout specifiying flow of control whereas the other solutions are procedural going line-by-line and calling\n",
    "# on the function to execute a formula ... the other solutions are not extensible or efficient. That being said, I like and have learnt from the use of \n",
    "# comprehensions"
   ]
  },
  {
   "cell_type": "code",
   "execution_count": 3,
   "metadata": {},
   "outputs": [
    {
     "name": "stdout",
     "output_type": "stream",
     "text": [
      " 100, 150, 180\n"
     ]
    },
    {
     "name": "stdout",
     "output_type": "stream",
     "text": [
      "18,22,24\n"
     ]
    }
   ],
   "source": [
    "from math import sqrt  # import specific functions as importing all using *\n",
    "\n",
    "# is bad practice\n",
    "\n",
    "C, H = 50, 30\n",
    "\n",
    "\n",
    "def calc(D):\n",
    "    return sqrt((2 * C * D) / H)\n",
    "\n",
    "\n",
    "D = [int(i) for i in input().split(\",\")]  # splits in comma position and set up in list\n",
    "D = [int(i) for i in D]  # converts string to integer\n",
    "D = [calc(i) for i in D]  # returns floating value by calc method for every item in D\n",
    "D = [round(i) for i in D]  # All the floating values are rounded\n",
    "D = [\n",
    "    str(i) for i in D\n",
    "]  # All the integers are converted to string to be able to apply join operation\n",
    "\n",
    "print(\",\".join(D))"
   ]
  },
  {
   "cell_type": "markdown",
   "metadata": {},
   "source": [
    "**OR**"
   ]
  },
  {
   "cell_type": "code",
   "execution_count": null,
   "metadata": {},
   "outputs": [],
   "source": [
    "from math import sqrt\n",
    "\n",
    "C, H = 50, 30\n",
    "\n",
    "\n",
    "def calc(D):\n",
    "    return sqrt((2 * C * D) / H)\n",
    "\n",
    "\n",
    "D = input().split(\",\")  # splits in comma position and set up in list\n",
    "D = [\n",
    "    str(round(calc(int(i)))) for i in D\n",
    "]  # using comprehension method. It works in order of the previous code\n",
    "print(\",\".join(D))"
   ]
  },
  {
   "cell_type": "markdown",
   "metadata": {},
   "source": [
    "**OR**"
   ]
  },
  {
   "cell_type": "code",
   "execution_count": null,
   "metadata": {},
   "outputs": [],
   "source": [
    "from math import sqrt\n",
    "\n",
    "C, H = 50, 30\n",
    "\n",
    "\n",
    "def calc(D):\n",
    "    return sqrt((2 * C * D) / H)\n",
    "\n",
    "\n",
    "print(\",\".join([str(int(calc(int(i)))) for i in input().split(\",\")]))"
   ]
  },
  {
   "cell_type": "markdown",
   "metadata": {},
   "source": [
    "**OR**"
   ]
  },
  {
   "cell_type": "code",
   "execution_count": null,
   "metadata": {},
   "outputs": [],
   "source": [
    "from math import *  # importing all math functions\n",
    "\n",
    "C, H = 50, 30\n",
    "\n",
    "\n",
    "def calc(D):\n",
    "    D = int(D)\n",
    "    return str(int(sqrt((2 * C * D) / H)))\n",
    "\n",
    "\n",
    "D = input().split(\",\")\n",
    "D = list(map(calc, D))  # applying calc function on D and storing as a list\n",
    "print(\",\".join(D))"
   ]
  },
  {
   "cell_type": "markdown",
   "metadata": {},
   "source": [
    "---\n",
    "\n",
    "# Question 7\n",
    "\n",
    "### **Question:**\n",
    "\n",
    "> **_Write a program which takes 2 digits, X,Y as input and generates a 2-dimensional array. The element value in the i-th row and j-th column of the array should be i _ j.\\***\n",
    "\n",
    "> **_Note: i=0,1.., X-1; j=0,1,¡­Y-1. Suppose the following inputs are given to the program: 3,5_**\n",
    "\n",
    "> **_Then, the output of the program should be:_**\n",
    "\n",
    "\n",
    "[[0, 0, 0, 0, 0], [0, 1, 2, 3, 4], [0, 2, 4, 6, 8]]\n",
    "\n",
    "\n",
    "---\n",
    "\n",
    "### Hints:\n",
    "\n",
    "> **_Note: In case of input data being supplied to the question, it should be assumed to be a console input in a comma-separated form._**\n",
    "\n",
    "---\n",
    "\n",
    "\n",
    "\n",
    "**Solutions:**"
   ]
  },
  {
   "attachments": {},
   "cell_type": "markdown",
   "metadata": {},
   "source": [
    "## EUAN'S SOLUTION"
   ]
  },
  {
   "cell_type": "code",
   "execution_count": null,
   "metadata": {},
   "outputs": [],
   "source": [
    "#EXPLANATION . . . list comprehension is used to create a 2D array ... \n",
    "# inside this list comprehension we are using for loops to multiply the indexes of the inputs to populate the columns, \n",
    "#on the first pass i*j for i in the range of 5 (so we have 5 values, 0 through 4) multiplied by the first index of inpt[0] which is 0 ... so 5 zeros, \n",
    "#on the next pass j is equal to 1, i again range of 5 ... 0*1,1*1,2*1,3*1,4*1\n",
    "#on the next pass j is equal to 2 (the value of the final index of j) ... 0*2,1*2,2*2.3*2,4*2\n",
    "\n",
    "def two_dimensional_array(inpt):\n",
    "  return print([[i*j for i in range(inpt[1])] for j in range(inpt[0])])\n",
    "\n",
    "two_dimensional_array([int(x) for x in input(\"Enter comma-seperated: \").split(\",\")])\n",
    "\n",
    "#I did not define x,y, I felt this was redundant as the list, from which values could be accessed by index, was already passed into the function"
   ]
  },
  {
   "cell_type": "code",
   "execution_count": null,
   "metadata": {},
   "outputs": [],
   "source": [
    "x, y = map(int, input().split(\",\"))\n",
    "lst = []\n",
    "\n",
    "for i in range(x):\n",
    "    tmp = []\n",
    "    for j in range(y):\n",
    "        tmp.append(i * j)\n",
    "    lst.append(tmp)\n",
    "\n",
    "print(lst)"
   ]
  },
  {
   "cell_type": "markdown",
   "metadata": {},
   "source": [
    "**OR**"
   ]
  },
  {
   "cell_type": "code",
   "execution_count": null,
   "metadata": {},
   "outputs": [],
   "source": [
    "x, y = map(int, input().split(\",\"))\n",
    "lst = [[i * j for j in range(y)] for i in range(x)]\n",
    "print(lst)"
   ]
  },
  {
   "cell_type": "markdown",
   "metadata": {},
   "source": [
    "---\n",
    "\n",
    "# Question 8\n",
    "\n",
    "### **Question:**\n",
    "\n",
    "> **_Write a program that accepts a comma separated sequence of words as input and prints the words in a comma-separated sequence after sorting them alphabetically._**\n",
    "\n",
    "> **_Suppose the following input is supplied to the program:_**\n",
    "\n",
    "\n",
    "without,hello,bag,world\n",
    "\n",
    "\n",
    "> **_Then, the output should be:_**\n",
    "\n",
    "\n",
    "bag,hello,without,world\n",
    "\n",
    "\n",
    "---\n",
    "\n",
    "### Hints:\n",
    "\n",
    "> **_In case of input data being supplied to the question, it should be assumed to be a console input._**\n",
    "\n",
    "---\n",
    "\n",
    "\n",
    "\n",
    "**Solutions:**"
   ]
  },
  {
   "attachments": {},
   "cell_type": "markdown",
   "metadata": {},
   "source": [
    "## EUAN'S SOLUTION"
   ]
  },
  {
   "cell_type": "code",
   "execution_count": null,
   "metadata": {},
   "outputs": [],
   "source": [
    "print(sorted([i for i in input(\"Enter comma-separated word(s): \").split(',')], key=str.lower))\n",
    "\n",
    "#This could have been written as a function, but that would be redundant for the exercise as I composed an elegant single-line solution, the sorted\n",
    "#key str.lower means all words are sorted as if they were lowercase ... ASCII convention assigns greater value to lower than upper case so use of \n",
    "#the key ensures all letters compared by the sorted function are considered to have the same weight/level playing field "
   ]
  },
  {
   "cell_type": "code",
   "execution_count": null,
   "metadata": {},
   "outputs": [],
   "source": [
    "lst = input().split(\",\")\n",
    "lst.sort()\n",
    "print(\",\".join(lst))"
   ]
  },
  {
   "cell_type": "markdown",
   "metadata": {},
   "source": [
    "---\n",
    "\n",
    "# Question 9\n",
    "\n",
    "### **Question:**\n",
    "\n",
    "> **_Write a program that accepts sequence of lines as input and prints the lines after making all characters in the sentence capitalized._**\n",
    "\n",
    "> **_Suppose the following input is supplied to the program:_**\n",
    "\n",
    "\n",
    "Hello world\n",
    "\n",
    "Practice makes perfect\n",
    "\n",
    "\n",
    "> **_Then, the output should be:_**\n",
    "\n",
    "\n",
    "HELLO WORLD\n",
    "\n",
    "PRACTICE MAKES PERFECT\n",
    "\n",
    "\n",
    "---\n",
    "\n",
    "### Hints:\n",
    "\n",
    "> **_In case of input data being supplied to the question, it should be assumed to be a console input._**\n",
    "\n",
    "---\n",
    "\n",
    "\n",
    "\n",
    "**Solutions:**"
   ]
  },
  {
   "attachments": {},
   "cell_type": "markdown",
   "metadata": {},
   "source": [
    "## EUAN'S SOLUTION"
   ]
  },
  {
   "cell_type": "code",
   "execution_count": null,
   "metadata": {},
   "outputs": [],
   "source": [
    "lines = []\n",
    "print(\"Enter your text, when finished type 'end_and_print':\\n\")\n",
    "while True:\n",
    "    line = input()\n",
    "    if line != 'end_and_print':\n",
    "        lines.append(line)\n",
    "    else:\n",
    "        break\n",
    "print('\\n'.join(lines).upper())\n",
    "\n",
    "#unlike the two attempts below, this produces the output specified in the solution \n",
    "#the 'marker' for terminate line is not something simple like 'end' as user may have that as line of text"
   ]
  },
  {
   "cell_type": "code",
   "execution_count": null,
   "metadata": {},
   "outputs": [],
   "source": [
    "#This solution does not work because the line  appended function is used after the break, so nothing is appended \n",
    "\n",
    "lst = []\n",
    "\n",
    "while input():\n",
    "    x = input()\n",
    "    if len(x) == 0:\n",
    "        break\n",
    "    lst.append(x.upper())\n",
    "\n",
    "for line in lst:\n",
    "    print(line)"
   ]
  },
  {
   "cell_type": "markdown",
   "metadata": {},
   "source": [
    "**OR**"
   ]
  },
  {
   "cell_type": "code",
   "execution_count": null,
   "metadata": {},
   "outputs": [],
   "source": [
    "#This does not fulfill the solution either, here you can enter input line by line and for every line it will return a capitalized string but there is no\n",
    "#break so the user can only end the program using ctrl+d/z to initiate an EOFerror and end the program \n",
    "def user_input():\n",
    "    while True:\n",
    "        s = input()\n",
    "        if not s:\n",
    "            return\n",
    "        yield s\n",
    "\n",
    "\n",
    "for line in map(str.upper, user_input()):\n",
    "    print(line)"
   ]
  },
  {
   "cell_type": "markdown",
   "metadata": {},
   "source": [
    "---"
   ]
  }
 ],
 "metadata": {
  "kernelspec": {
   "display_name": "Python 3",
   "language": "python",
   "name": "python3"
  },
  "language_info": {
   "codemirror_mode": {
    "name": "ipython",
    "version": 3
   },
   "file_extension": ".py",
   "mimetype": "text/x-python",
   "name": "python",
   "nbconvert_exporter": "python",
   "pygments_lexer": "ipython3",
   "version": "3.7.6"
  }
 },
 "nbformat": 4,
 "nbformat_minor": 4
}
